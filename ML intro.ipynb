{
 "cells": [
  {
   "cell_type": "code",
   "execution_count": 63,
   "metadata": {
    "collapsed": false
   },
   "outputs": [],
   "source": [
    "rawdata = readdlm(\"housing.data\");"
   ]
  },
  {
   "cell_type": "code",
   "execution_count": 64,
   "metadata": {
    "collapsed": false
   },
   "outputs": [
    {
     "data": {
      "text/plain": [
       "13×506 Array{Float64,2}:\n",
       " -0.419367  -0.416927  -0.416929  …  -0.413038  -0.407361  -0.41459 \n",
       "  0.284548  -0.48724   -0.48724      -0.48724   -0.48724   -0.48724 \n",
       " -1.28664   -0.592794  -0.592794      0.115624   0.115624   0.115624\n",
       " -0.272329  -0.272329  -0.272329     -0.272329  -0.272329  -0.272329\n",
       " -0.144075  -0.73953   -0.73953       0.157968   0.157968   0.157968\n",
       "  0.413263   0.194082   1.28145   …   0.983986   0.724955  -0.362408\n",
       " -0.119895   0.366803  -0.265549      0.796661   0.736268   0.434302\n",
       "  0.140075   0.556609   0.556609     -0.772919  -0.667776  -0.61264 \n",
       " -0.981871  -0.867024  -0.867024     -0.981871  -0.981871  -0.981871\n",
       " -0.665949  -0.986353  -0.986353     -0.802418  -0.802418  -0.802418\n",
       " -1.45756   -0.302794  -0.302794  …   1.1753     1.1753     1.1753  \n",
       "  0.440616   0.440616   0.396035      0.440616   0.402826   0.440616\n",
       " -1.0745    -0.491953  -1.20753      -0.982076  -0.864446  -0.668397"
      ]
     },
     "execution_count": 64,
     "metadata": {},
     "output_type": "execute_result"
    }
   ],
   "source": [
    "x = rawdata[:,1:13]'\n",
    "x = (x .- mean(x,2)) ./ std(x,2)"
   ]
  },
  {
   "cell_type": "code",
   "execution_count": 65,
   "metadata": {
    "collapsed": false
   },
   "outputs": [
    {
     "data": {
      "text/plain": [
       "1×506 Array{Float64,2}:\n",
       " 24.0  21.6  34.7  33.4  36.2  28.7  …  16.8  22.4  20.6  23.9  22.0  11.9"
      ]
     },
     "execution_count": 65,
     "metadata": {},
     "output_type": "execute_result"
    }
   ],
   "source": [
    "y = rawdata[:,14:14]'"
   ]
  },
  {
   "cell_type": "code",
   "execution_count": 8,
   "metadata": {
    "collapsed": false
   },
   "outputs": [
    {
     "name": "stderr",
     "output_type": "stream",
     "text": [
      "WARNING: Method definition predict(Any, Any, Any) in module Main at In[7]:1 overwritten at In[8]:1.\n"
     ]
    },
    {
     "data": {
      "text/plain": [
       "predict (generic function with 1 method)"
      ]
     },
     "execution_count": 8,
     "metadata": {},
     "output_type": "execute_result"
    }
   ],
   "source": [
    "predict(W,b,x) = W*x .+ b\n",
    "loss(y, ŷ) = sumabs2(y - ŷ) / size(y,2)"
   ]
  },
  {
   "cell_type": "code",
   "execution_count": 38,
   "metadata": {
    "collapsed": false
   },
   "outputs": [
    {
     "data": {
      "text/plain": [
       "([0.0947542],24.0)"
      ]
     },
     "execution_count": 38,
     "metadata": {},
     "output_type": "execute_result"
    }
   ],
   "source": [
    "W, b = 0.1*randn(1,13), [0.]\n",
    "predict(W, b, x[:,1]), y[1]"
   ]
  },
  {
   "cell_type": "code",
   "execution_count": 13,
   "metadata": {
    "collapsed": false
   },
   "outputs": [
    {
     "data": {
      "text/plain": [
       "596.5118303901542"
      ]
     },
     "execution_count": 13,
     "metadata": {},
     "output_type": "execute_result"
    }
   ],
   "source": [
    "loss(y, predict(W, b, x))"
   ]
  },
  {
   "cell_type": "code",
   "execution_count": 14,
   "metadata": {
    "collapsed": false
   },
   "outputs": [
    {
     "data": {
      "text/plain": [
       "∇loss (generic function with 1 method)"
      ]
     },
     "execution_count": 14,
     "metadata": {},
     "output_type": "execute_result"
    }
   ],
   "source": [
    "∇predict(Δ, W, b, x) = (Δ*x', sum(Δ), W'*Δ)\n",
    "∇loss(Δ, y, ŷ) = Δ .* (ŷ .- y)"
   ]
  },
  {
   "cell_type": "code",
   "execution_count": 17,
   "metadata": {
    "collapsed": false
   },
   "outputs": [
    {
     "data": {
      "text/plain": [
       "(\n",
       "[-0.83605 0.586249 … -1.01494 -0.671138],\n",
       "\n",
       "1,\n",
       "[-0.0246724; 0.160287; … ; -0.118318; -0.156373])"
      ]
     },
     "execution_count": 17,
     "metadata": {},
     "output_type": "execute_result"
    }
   ],
   "source": [
    "∇predict(1, W, b, randn(13))"
   ]
  },
  {
   "cell_type": "code",
   "execution_count": 27,
   "metadata": {
    "collapsed": false
   },
   "outputs": [
    {
     "name": "stderr",
     "output_type": "stream",
     "text": [
      "WARNING: Method definition train(Any, Any, Any) in module Main at In[18]:2 overwritten at In[27]:2.\n",
      "WARNING: Method definition #train(Array{Any, 1}, Main.#train, Any, Any, Any) in module Main overwritten.\n"
     ]
    },
    {
     "data": {
      "text/plain": [
       "train (generic function with 1 method)"
      ]
     },
     "execution_count": 27,
     "metadata": {},
     "output_type": "execute_result"
    }
   ],
   "source": [
    "function train(W, b, data; η = 1e-4)\n",
    "    for (x,y) in data\n",
    "        ŷ = predict(W, b, x)\n",
    "        ΔW, Δb = ∇predict(∇loss(1, y, ŷ), W, b, x)\n",
    "        W .-= ΔW*η\n",
    "        b .-= Δb*η\n",
    "    end\n",
    "end"
   ]
  },
  {
   "cell_type": "code",
   "execution_count": 32,
   "metadata": {
    "collapsed": false
   },
   "outputs": [
    {
     "data": {
      "text/plain": [
       "(\n",
       "[-0.0293133 0.0202788 … -0.095588 -0.0731748],\n",
       "\n",
       "[0.0])"
      ]
     },
     "execution_count": 32,
     "metadata": {},
     "output_type": "execute_result"
    }
   ],
   "source": [
    "W, b = 0.1*randn(1,13), [0.]"
   ]
  },
  {
   "cell_type": "code",
   "execution_count": 34,
   "metadata": {
    "collapsed": false
   },
   "outputs": [
    {
     "data": {
      "text/plain": [
       "466.6642162038822"
      ]
     },
     "execution_count": 34,
     "metadata": {},
     "output_type": "execute_result"
    }
   ],
   "source": [
    "train(W, b, [(x, y)])\n",
    "loss(y, predict(W, b, x))"
   ]
  },
  {
   "cell_type": "code",
   "execution_count": 59,
   "metadata": {
    "collapsed": false
   },
   "outputs": [
    {
     "data": {
      "text/plain": [
       "21.894831181729206"
      ]
     },
     "execution_count": 59,
     "metadata": {},
     "output_type": "execute_result"
    }
   ],
   "source": [
    "train(W, b, repeated((x, y), 1000))\n",
    "loss(y, predict(W, b, x))"
   ]
  },
  {
   "cell_type": "code",
   "execution_count": 62,
   "metadata": {
    "collapsed": false
   },
   "outputs": [
    {
     "data": {
      "text/plain": [
       "([25.0256],21.6)"
      ]
     },
     "execution_count": 62,
     "metadata": {},
     "output_type": "execute_result"
    }
   ],
   "source": [
    "predict(W, b, x[:,2]), y[2]"
   ]
  },
  {
   "cell_type": "code",
   "execution_count": null,
   "metadata": {
    "collapsed": true
   },
   "outputs": [],
   "source": []
  }
 ],
 "metadata": {
  "kernelspec": {
   "display_name": "Julia 0.5.2",
   "language": "julia",
   "name": "julia-0.5"
  },
  "language_info": {
   "file_extension": ".jl",
   "mimetype": "application/julia",
   "name": "julia",
   "version": "0.5.2"
  }
 },
 "nbformat": 4,
 "nbformat_minor": 2
}
